{
 "cells": [
  {
   "cell_type": "code",
   "execution_count": 34,
   "metadata": {},
   "outputs": [],
   "source": [
    "import pandas as pd\n",
    "import numpy as np\n",
    "import statsmodels.api as sm\n",
    "import scipy.stats as sci\n",
    "import matplotlib.pyplot as matplt\n",
    "import seaborn as sb\n",
    "from sklearn.metrics import confusion_matrix\n",
    "import matplotlib.mlab as matlab\n",
    "%matplotlib inline"
   ]
  },
  {
   "cell_type": "code",
   "execution_count": 35,
   "metadata": {},
   "outputs": [],
   "source": [
    "heartDisease_train=pd.read_csv(\"tubes2_HeartDisease_train.csv\")"
   ]
  },
  {
   "cell_type": "code",
   "execution_count": 36,
   "metadata": {},
   "outputs": [
    {
     "data": {
      "text/html": [
       "<div>\n",
       "<style scoped>\n",
       "    .dataframe tbody tr th:only-of-type {\n",
       "        vertical-align: middle;\n",
       "    }\n",
       "\n",
       "    .dataframe tbody tr th {\n",
       "        vertical-align: top;\n",
       "    }\n",
       "\n",
       "    .dataframe thead th {\n",
       "        text-align: right;\n",
       "    }\n",
       "</style>\n",
       "<table border=\"1\" class=\"dataframe\">\n",
       "  <thead>\n",
       "    <tr style=\"text-align: right;\">\n",
       "      <th></th>\n",
       "      <th>Column1</th>\n",
       "      <th>Column2</th>\n",
       "      <th>Column3</th>\n",
       "      <th>Column4</th>\n",
       "      <th>Column5</th>\n",
       "      <th>Column6</th>\n",
       "      <th>Column7</th>\n",
       "      <th>Column8</th>\n",
       "      <th>Column9</th>\n",
       "      <th>Column10</th>\n",
       "      <th>Column11</th>\n",
       "      <th>Column12</th>\n",
       "      <th>Column13</th>\n",
       "      <th>Column14</th>\n",
       "    </tr>\n",
       "  </thead>\n",
       "  <tbody>\n",
       "    <tr>\n",
       "      <th>0</th>\n",
       "      <td>54</td>\n",
       "      <td>1</td>\n",
       "      <td>4</td>\n",
       "      <td>125</td>\n",
       "      <td>216</td>\n",
       "      <td>0</td>\n",
       "      <td>0</td>\n",
       "      <td>140</td>\n",
       "      <td>0</td>\n",
       "      <td>0</td>\n",
       "      <td>?</td>\n",
       "      <td>?</td>\n",
       "      <td>?</td>\n",
       "      <td>1</td>\n",
       "    </tr>\n",
       "    <tr>\n",
       "      <th>1</th>\n",
       "      <td>55</td>\n",
       "      <td>1</td>\n",
       "      <td>4</td>\n",
       "      <td>158</td>\n",
       "      <td>217</td>\n",
       "      <td>0</td>\n",
       "      <td>0</td>\n",
       "      <td>110</td>\n",
       "      <td>1</td>\n",
       "      <td>2.5</td>\n",
       "      <td>2</td>\n",
       "      <td>?</td>\n",
       "      <td>?</td>\n",
       "      <td>1</td>\n",
       "    </tr>\n",
       "    <tr>\n",
       "      <th>2</th>\n",
       "      <td>54</td>\n",
       "      <td>0</td>\n",
       "      <td>3</td>\n",
       "      <td>135</td>\n",
       "      <td>304</td>\n",
       "      <td>1</td>\n",
       "      <td>0</td>\n",
       "      <td>170</td>\n",
       "      <td>0</td>\n",
       "      <td>0</td>\n",
       "      <td>1</td>\n",
       "      <td>0</td>\n",
       "      <td>3</td>\n",
       "      <td>0</td>\n",
       "    </tr>\n",
       "    <tr>\n",
       "      <th>3</th>\n",
       "      <td>48</td>\n",
       "      <td>0</td>\n",
       "      <td>3</td>\n",
       "      <td>120</td>\n",
       "      <td>195</td>\n",
       "      <td>0</td>\n",
       "      <td>0</td>\n",
       "      <td>125</td>\n",
       "      <td>0</td>\n",
       "      <td>0</td>\n",
       "      <td>?</td>\n",
       "      <td>?</td>\n",
       "      <td>?</td>\n",
       "      <td>0</td>\n",
       "    </tr>\n",
       "    <tr>\n",
       "      <th>4</th>\n",
       "      <td>50</td>\n",
       "      <td>1</td>\n",
       "      <td>4</td>\n",
       "      <td>120</td>\n",
       "      <td>0</td>\n",
       "      <td>0</td>\n",
       "      <td>1</td>\n",
       "      <td>156</td>\n",
       "      <td>1</td>\n",
       "      <td>0</td>\n",
       "      <td>1</td>\n",
       "      <td>?</td>\n",
       "      <td>6</td>\n",
       "      <td>3</td>\n",
       "    </tr>\n",
       "  </tbody>\n",
       "</table>\n",
       "</div>"
      ],
      "text/plain": [
       "   Column1  Column2  Column3 Column4 Column5 Column6 Column7 Column8 Column9  \\\n",
       "0       54        1        4     125     216       0       0     140       0   \n",
       "1       55        1        4     158     217       0       0     110       1   \n",
       "2       54        0        3     135     304       1       0     170       0   \n",
       "3       48        0        3     120     195       0       0     125       0   \n",
       "4       50        1        4     120       0       0       1     156       1   \n",
       "\n",
       "  Column10 Column11 Column12 Column13  Column14  \n",
       "0        0        ?        ?        ?         1  \n",
       "1      2.5        2        ?        ?         1  \n",
       "2        0        1        0        3         0  \n",
       "3        0        ?        ?        ?         0  \n",
       "4        0        1        ?        6         3  "
      ]
     },
     "execution_count": 36,
     "metadata": {},
     "output_type": "execute_result"
    }
   ],
   "source": [
    "heartDisease_train.head()"
   ]
  },
  {
   "cell_type": "code",
   "execution_count": 37,
   "metadata": {},
   "outputs": [
    {
     "data": {
      "text/plain": [
       "'column 1:-age\\n    Column sex as 1=male,0,female\\n    Column 3:-chest pain type as 1=typical angina 2=atypical angina\\n    3=non anginal pain 4=asymtotic\\n    column 4:-resting blood pressure \\n    column5:-serum cholestrol\\n    column 6:- fasting blood sugar as(>120mg/dl) 1=true0=false\\n    column 7 resting ecg 0=normal 1=having ST-T wave abnormality 2=left ventricular hyperthropy\\n    column 8:-maximum heart rate achieved as arbtary value\\n    column 9:-exercise induced agina as 1=yes 0=no\\n    column 10:-st depression induced by exercise relative to rest as arbitary value\\n    column 11 peak exercise st segment 1=upsloping,2=flat,3=downsloping\\n    column12:-number of major vessels(0-3) colored by flourosoppy as 0-3 value\\n    column 13:thal as 3=normal 6=fixed defect 7=reversible defect\\n    \\n    \\n'"
      ]
     },
     "execution_count": 37,
     "metadata": {},
     "output_type": "execute_result"
    }
   ],
   "source": [
    "'''column 1:-age\n",
    "    Column sex as 1=male,0,female\n",
    "    Column 3:-chest pain type as 1=typical angina 2=atypical angina\n",
    "    3=non anginal pain 4=asymtotic\n",
    "    column 4:-resting blood pressure \n",
    "    column5:-serum cholestrol\n",
    "    column 6:- fasting blood sugar as(>120mg/dl) 1=true0=false\n",
    "    column 7 resting ecg 0=normal 1=having ST-T wave abnormality 2=left ventricular hyperthropy\n",
    "    column 8:-maximum heart rate achieved as arbtary value\n",
    "    column 9:-exercise induced agina as 1=yes 0=no\n",
    "    column 10:-st depression induced by exercise relative to rest as arbitary value\n",
    "    column 11 peak exercise st segment 1=upsloping,2=flat,3=downsloping\n",
    "    column12:-number of major vessels(0-3) colored by flourosoppy as 0-3 value\n",
    "    column 13:thal as 3=normal 6=fixed defect 7=reversible defect\n",
    "    \n",
    "    \n",
    "'''"
   ]
  },
  {
   "cell_type": "code",
   "execution_count": 38,
   "metadata": {},
   "outputs": [
    {
     "data": {
      "text/plain": [
       "Column1      int64\n",
       "Column2      int64\n",
       "Column3      int64\n",
       "Column4     object\n",
       "Column5     object\n",
       "Column6     object\n",
       "Column7     object\n",
       "Column8     object\n",
       "Column9     object\n",
       "Column10    object\n",
       "Column11    object\n",
       "Column12    object\n",
       "Column13    object\n",
       "Column14     int64\n",
       "dtype: object"
      ]
     },
     "execution_count": 38,
     "metadata": {},
     "output_type": "execute_result"
    }
   ],
   "source": [
    "heartDisease_train.dtypes\n"
   ]
  },
  {
   "cell_type": "code",
   "execution_count": 39,
   "metadata": {},
   "outputs": [
    {
     "data": {
      "text/plain": [
       "'convert  all object data type to float and replave missing values with nan'"
      ]
     },
     "execution_count": 39,
     "metadata": {},
     "output_type": "execute_result"
    }
   ],
   "source": [
    "'''convert  all object data type to float and replave missing values with nan'''"
   ]
  },
  {
   "cell_type": "code",
   "execution_count": 40,
   "metadata": {},
   "outputs": [
    {
     "data": {
      "text/html": [
       "<div>\n",
       "<style scoped>\n",
       "    .dataframe tbody tr th:only-of-type {\n",
       "        vertical-align: middle;\n",
       "    }\n",
       "\n",
       "    .dataframe tbody tr th {\n",
       "        vertical-align: top;\n",
       "    }\n",
       "\n",
       "    .dataframe thead th {\n",
       "        text-align: right;\n",
       "    }\n",
       "</style>\n",
       "<table border=\"1\" class=\"dataframe\">\n",
       "  <thead>\n",
       "    <tr style=\"text-align: right;\">\n",
       "      <th></th>\n",
       "      <th>Column1</th>\n",
       "      <th>Column2</th>\n",
       "      <th>Column3</th>\n",
       "      <th>Column14</th>\n",
       "    </tr>\n",
       "  </thead>\n",
       "  <tbody>\n",
       "    <tr>\n",
       "      <th>count</th>\n",
       "      <td>779.000000</td>\n",
       "      <td>779.000000</td>\n",
       "      <td>779.000000</td>\n",
       "      <td>779.000000</td>\n",
       "    </tr>\n",
       "    <tr>\n",
       "      <th>mean</th>\n",
       "      <td>53.509628</td>\n",
       "      <td>0.779204</td>\n",
       "      <td>3.264442</td>\n",
       "      <td>0.989730</td>\n",
       "    </tr>\n",
       "    <tr>\n",
       "      <th>std</th>\n",
       "      <td>9.505017</td>\n",
       "      <td>0.415050</td>\n",
       "      <td>0.926284</td>\n",
       "      <td>1.138211</td>\n",
       "    </tr>\n",
       "    <tr>\n",
       "      <th>min</th>\n",
       "      <td>28.000000</td>\n",
       "      <td>0.000000</td>\n",
       "      <td>1.000000</td>\n",
       "      <td>0.000000</td>\n",
       "    </tr>\n",
       "    <tr>\n",
       "      <th>25%</th>\n",
       "      <td>47.000000</td>\n",
       "      <td>1.000000</td>\n",
       "      <td>3.000000</td>\n",
       "      <td>0.000000</td>\n",
       "    </tr>\n",
       "    <tr>\n",
       "      <th>50%</th>\n",
       "      <td>54.000000</td>\n",
       "      <td>1.000000</td>\n",
       "      <td>4.000000</td>\n",
       "      <td>1.000000</td>\n",
       "    </tr>\n",
       "    <tr>\n",
       "      <th>75%</th>\n",
       "      <td>60.000000</td>\n",
       "      <td>1.000000</td>\n",
       "      <td>4.000000</td>\n",
       "      <td>2.000000</td>\n",
       "    </tr>\n",
       "    <tr>\n",
       "      <th>max</th>\n",
       "      <td>77.000000</td>\n",
       "      <td>1.000000</td>\n",
       "      <td>4.000000</td>\n",
       "      <td>4.000000</td>\n",
       "    </tr>\n",
       "  </tbody>\n",
       "</table>\n",
       "</div>"
      ],
      "text/plain": [
       "          Column1     Column2     Column3    Column14\n",
       "count  779.000000  779.000000  779.000000  779.000000\n",
       "mean    53.509628    0.779204    3.264442    0.989730\n",
       "std      9.505017    0.415050    0.926284    1.138211\n",
       "min     28.000000    0.000000    1.000000    0.000000\n",
       "25%     47.000000    1.000000    3.000000    0.000000\n",
       "50%     54.000000    1.000000    4.000000    1.000000\n",
       "75%     60.000000    1.000000    4.000000    2.000000\n",
       "max     77.000000    1.000000    4.000000    4.000000"
      ]
     },
     "execution_count": 40,
     "metadata": {},
     "output_type": "execute_result"
    }
   ],
   "source": [
    "heartDisease_train.describe()"
   ]
  },
  {
   "cell_type": "code",
   "execution_count": 41,
   "metadata": {},
   "outputs": [],
   "source": [
    "heartDisease_train['Column4']=pd.to_numeric(heartDisease_train['Column4'],errors='coerce')"
   ]
  },
  {
   "cell_type": "code",
   "execution_count": 42,
   "metadata": {},
   "outputs": [
    {
     "data": {
      "text/plain": [
       "Column1       int64\n",
       "Column2       int64\n",
       "Column3       int64\n",
       "Column4     float64\n",
       "Column5      object\n",
       "Column6      object\n",
       "Column7      object\n",
       "Column8      object\n",
       "Column9      object\n",
       "Column10     object\n",
       "Column11     object\n",
       "Column12     object\n",
       "Column13     object\n",
       "Column14      int64\n",
       "dtype: object"
      ]
     },
     "execution_count": 42,
     "metadata": {},
     "output_type": "execute_result"
    }
   ],
   "source": [
    "heartDisease_train.dtypes"
   ]
  },
  {
   "cell_type": "code",
   "execution_count": 43,
   "metadata": {},
   "outputs": [
    {
     "data": {
      "text/plain": [
       "'In to_numeric function if we set errors as\\nraise:-invalid parsing will raise an exception\\ncoerce:-then invalid parsing will be set as Nan\\nignore:-then invalid parsing will return the input'"
      ]
     },
     "execution_count": 43,
     "metadata": {},
     "output_type": "execute_result"
    }
   ],
   "source": [
    "'''In to_numeric function if we set errors as\n",
    "raise:-invalid parsing will raise an exception\n",
    "coerce:-then invalid parsing will be set as Nan\n",
    "ignore:-then invalid parsing will return the input'''"
   ]
  },
  {
   "cell_type": "code",
   "execution_count": 44,
   "metadata": {},
   "outputs": [],
   "source": [
    "heartDisease_train['Column5']=pd.to_numeric(heartDisease_train['Column5'],errors='coerce')"
   ]
  },
  {
   "cell_type": "code",
   "execution_count": 45,
   "metadata": {},
   "outputs": [],
   "source": [
    "heartDisease_train['Column6']=pd.to_numeric(heartDisease_train['Column6'],errors='coerce')"
   ]
  },
  {
   "cell_type": "code",
   "execution_count": 46,
   "metadata": {},
   "outputs": [],
   "source": [
    "heartDisease_train['Column7']=pd.to_numeric(heartDisease_train['Column7'],errors='coerce')"
   ]
  },
  {
   "cell_type": "code",
   "execution_count": 47,
   "metadata": {},
   "outputs": [],
   "source": [
    "heartDisease_train['Column8']=pd.to_numeric(heartDisease_train['Column8'],errors='coerce')"
   ]
  },
  {
   "cell_type": "code",
   "execution_count": 48,
   "metadata": {},
   "outputs": [],
   "source": [
    "heartDisease_train['Column9']=pd.to_numeric(heartDisease_train['Column9'],errors='coerce')"
   ]
  },
  {
   "cell_type": "code",
   "execution_count": 49,
   "metadata": {},
   "outputs": [],
   "source": [
    "heartDisease_train['Column10']=pd.to_numeric(heartDisease_train['Column10'],errors='coerce')"
   ]
  },
  {
   "cell_type": "code",
   "execution_count": 50,
   "metadata": {},
   "outputs": [],
   "source": [
    "heartDisease_train['Column11']=pd.to_numeric(heartDisease_train['Column11'],errors='coerce')"
   ]
  },
  {
   "cell_type": "code",
   "execution_count": 51,
   "metadata": {},
   "outputs": [],
   "source": [
    "heartDisease_train['Column12']=pd.to_numeric(heartDisease_train['Column12'],errors='coerce')"
   ]
  },
  {
   "cell_type": "code",
   "execution_count": 52,
   "metadata": {},
   "outputs": [],
   "source": [
    "heartDisease_train['Column13']=pd.to_numeric(heartDisease_train['Column13'],errors='coerce')"
   ]
  },
  {
   "cell_type": "code",
   "execution_count": 54,
   "metadata": {},
   "outputs": [
    {
     "data": {
      "text/plain": [
       "Column1       int64\n",
       "Column2       int64\n",
       "Column3       int64\n",
       "Column4     float64\n",
       "Column5     float64\n",
       "Column6     float64\n",
       "Column7     float64\n",
       "Column8     float64\n",
       "Column9     float64\n",
       "Column10    float64\n",
       "Column11    float64\n",
       "Column12    float64\n",
       "Column13    float64\n",
       "Column14      int64\n",
       "dtype: object"
      ]
     },
     "execution_count": 54,
     "metadata": {},
     "output_type": "execute_result"
    }
   ],
   "source": [
    "heartDisease_train.dtypes"
   ]
  },
  {
   "cell_type": "code",
   "execution_count": null,
   "metadata": {},
   "outputs": [],
   "source": []
  }
 ],
 "metadata": {
  "kernelspec": {
   "display_name": "Python 3",
   "language": "python",
   "name": "python3"
  },
  "language_info": {
   "codemirror_mode": {
    "name": "ipython",
    "version": 3
   },
   "file_extension": ".py",
   "mimetype": "text/x-python",
   "name": "python",
   "nbconvert_exporter": "python",
   "pygments_lexer": "ipython3",
   "version": "3.6.5"
  }
 },
 "nbformat": 4,
 "nbformat_minor": 2
}
